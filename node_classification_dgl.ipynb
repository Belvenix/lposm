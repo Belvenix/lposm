{
 "cells": [
  {
   "cell_type": "code",
   "execution_count": 1,
   "metadata": {},
   "outputs": [],
   "source": [
    "import torch\n",
    "import torch.nn as nn\n",
    "import torch.nn.functional as F\n",
    "import dgl"
   ]
  },
  {
   "cell_type": "code",
   "execution_count": 2,
   "metadata": {},
   "outputs": [
    {
     "name": "stdout",
     "output_type": "stream",
     "text": [
      "Finished data loading and preprocessing.\n",
      "  NumNodes: 2708\n",
      "  NumEdges: 10556\n",
      "  NumFeats: 1433\n",
      "  NumClasses: 7\n",
      "  NumTrainingSamples: 140\n",
      "  NumValidationSamples: 500\n",
      "  NumTestSamples: 1000\n",
      "Done saving data into cached files.\n",
      "Number of categories:  7\n"
     ]
    }
   ],
   "source": [
    "import dgl.data\n",
    "\n",
    "dataset = dgl.data.CoraGraphDataset()\n",
    "print('Number of categories: ', dataset.num_classes)"
   ]
  },
  {
   "cell_type": "code",
   "execution_count": 4,
   "metadata": {},
   "outputs": [
    {
     "name": "stdout",
     "output_type": "stream",
     "text": [
      "Node features\n",
      "{'train_mask': tensor([False, False, False,  ..., False, False, False]), 'val_mask': tensor([False, False,  True,  ..., False, False, False]), 'test_mask': tensor([ True,  True, False,  ..., False, False, False]), 'label': tensor([4, 4, 4,  ..., 4, 3, 3]), 'feat': tensor([[0.0000, 0.0000, 0.0000,  ..., 0.0000, 0.0000, 0.0000],\n",
      "        [0.0000, 0.0000, 0.0000,  ..., 0.0000, 0.0000, 0.0000],\n",
      "        [0.0000, 0.0000, 0.0000,  ..., 0.0000, 0.0000, 0.0000],\n",
      "        ...,\n",
      "        [0.0000, 0.0000, 0.0000,  ..., 0.0000, 0.0000, 0.0000],\n",
      "        [0.0000, 0.0000, 0.0000,  ..., 0.0000, 0.0000, 0.0000],\n",
      "        [0.0000, 0.0000, 0.0000,  ..., 0.0000, 0.0526, 0.0000]])}\n",
      "Edge features\n",
      "{'__orig__': tensor([  298,  9199,  1153,  ..., 10415,  5255,  6356])}\n"
     ]
    }
   ],
   "source": [
    "g = dataset[0]\n",
    "\n",
    "print('Node features')\n",
    "print(g.ndata)\n",
    "print('Edge features')\n",
    "print(g.edata)"
   ]
  },
  {
   "cell_type": "code",
   "execution_count": 5,
   "metadata": {},
   "outputs": [],
   "source": [
    "from dgl.nn import GraphConv\n",
    "\n",
    "class GCN(nn.Module):\n",
    "    def __init__(self, in_feats, h_feats, num_classes):\n",
    "        super(GCN, self).__init__()\n",
    "        self.conv1 = GraphConv(in_feats, h_feats)\n",
    "        self.conv2 = GraphConv(h_feats, num_classes)\n",
    "\n",
    "    def forward(self, g, in_feat):\n",
    "        h = self.conv1(g, in_feat)\n",
    "        h = F.relu(h)\n",
    "        h = self.conv2(g, h)\n",
    "        return h\n",
    "\n",
    "# Create the model with given dimensions\n",
    "model = GCN(g.ndata['feat'].shape[1], 16, dataset.num_classes)"
   ]
  },
  {
   "cell_type": "code",
   "execution_count": 6,
   "metadata": {},
   "outputs": [
    {
     "data": {
      "text/plain": [
       "GCN(\n",
       "  (conv1): GraphConv(in=1433, out=16, normalization=both, activation=None)\n",
       "  (conv2): GraphConv(in=16, out=7, normalization=both, activation=None)\n",
       ")"
      ]
     },
     "execution_count": 6,
     "metadata": {},
     "output_type": "execute_result"
    }
   ],
   "source": [
    "model"
   ]
  },
  {
   "cell_type": "code",
   "execution_count": 7,
   "metadata": {},
   "outputs": [
    {
     "name": "stdout",
     "output_type": "stream",
     "text": [
      "In epoch 0, loss: 1.946, val acc: 0.156 (best 0.156), test acc: 0.141 (best 0.141)\n",
      "In epoch 5, loss: 1.893, val acc: 0.458 (best 0.458), test acc: 0.442 (best 0.442)\n",
      "In epoch 10, loss: 1.817, val acc: 0.540 (best 0.540), test acc: 0.548 (best 0.548)\n",
      "In epoch 15, loss: 1.719, val acc: 0.572 (best 0.572), test acc: 0.582 (best 0.582)\n",
      "In epoch 20, loss: 1.601, val acc: 0.592 (best 0.592), test acc: 0.615 (best 0.615)\n",
      "In epoch 25, loss: 1.465, val acc: 0.642 (best 0.642), test acc: 0.673 (best 0.673)\n",
      "In epoch 30, loss: 1.316, val acc: 0.660 (best 0.660), test acc: 0.696 (best 0.695)\n",
      "In epoch 35, loss: 1.160, val acc: 0.672 (best 0.674), test acc: 0.715 (best 0.704)\n",
      "In epoch 40, loss: 1.003, val acc: 0.692 (best 0.692), test acc: 0.733 (best 0.733)\n",
      "In epoch 45, loss: 0.852, val acc: 0.712 (best 0.712), test acc: 0.746 (best 0.746)\n",
      "In epoch 50, loss: 0.712, val acc: 0.726 (best 0.726), test acc: 0.753 (best 0.753)\n",
      "In epoch 55, loss: 0.588, val acc: 0.734 (best 0.736), test acc: 0.751 (best 0.753)\n",
      "In epoch 60, loss: 0.481, val acc: 0.746 (best 0.748), test acc: 0.747 (best 0.749)\n",
      "In epoch 65, loss: 0.393, val acc: 0.750 (best 0.752), test acc: 0.749 (best 0.749)\n",
      "In epoch 70, loss: 0.321, val acc: 0.768 (best 0.768), test acc: 0.748 (best 0.748)\n",
      "In epoch 75, loss: 0.263, val acc: 0.768 (best 0.770), test acc: 0.755 (best 0.751)\n",
      "In epoch 80, loss: 0.217, val acc: 0.768 (best 0.770), test acc: 0.757 (best 0.751)\n",
      "In epoch 85, loss: 0.181, val acc: 0.768 (best 0.770), test acc: 0.761 (best 0.751)\n",
      "In epoch 90, loss: 0.152, val acc: 0.774 (best 0.774), test acc: 0.761 (best 0.761)\n",
      "In epoch 95, loss: 0.129, val acc: 0.772 (best 0.774), test acc: 0.759 (best 0.761)\n"
     ]
    }
   ],
   "source": [
    "def train(g, model):\n",
    "    optimizer = torch.optim.Adam(model.parameters(), lr=0.01)\n",
    "    best_val_acc = 0\n",
    "    best_test_acc = 0\n",
    "\n",
    "    features = g.ndata['feat']\n",
    "    labels = g.ndata['label']\n",
    "    train_mask = g.ndata['train_mask']\n",
    "    val_mask = g.ndata['val_mask']\n",
    "    test_mask = g.ndata['test_mask']\n",
    "    for e in range(100):\n",
    "        # Forward\n",
    "        logits = model(g, features)\n",
    "\n",
    "        # Compute prediction\n",
    "        pred = logits.argmax(1)\n",
    "\n",
    "        # Compute loss\n",
    "        # Note that you should only compute the losses of the nodes in the training set.\n",
    "        loss = F.cross_entropy(logits[train_mask], labels[train_mask])\n",
    "\n",
    "        # Compute accuracy on training/validation/test\n",
    "        train_acc = (pred[train_mask] == labels[train_mask]).float().mean()\n",
    "        val_acc = (pred[val_mask] == labels[val_mask]).float().mean()\n",
    "        test_acc = (pred[test_mask] == labels[test_mask]).float().mean()\n",
    "\n",
    "        # Save the best validation accuracy and the corresponding test accuracy\n",
    "        if best_val_acc < val_acc:\n",
    "            best_val_acc = val_acc\n",
    "            best_test_acc = test_acc\n",
    "\n",
    "        # Backward\n",
    "        optimizer.zero_grad()\n",
    "        loss.backward()\n",
    "        optimizer.step()\n",
    "\n",
    "        if e % 5 == 0:\n",
    "            print('In epoch {}, loss: {:.3f}, val acc: {:.3f} (best {:.3f}), test acc: {:.3f} (best {:.3f})'.format(\n",
    "                e, loss, val_acc, best_val_acc, test_acc, best_test_acc))\n",
    "\n",
    "model = GCN(g.ndata['feat'].shape[1], 16, dataset.num_classes)\n",
    "train(g, model)"
   ]
  },
  {
   "cell_type": "code",
   "execution_count": 8,
   "metadata": {},
   "outputs": [
    {
     "name": "stdout",
     "output_type": "stream",
     "text": [
      "In epoch 0, loss: 1.946, val acc: 0.158 (best 0.158), test acc: 0.133 (best 0.133)\n",
      "In epoch 5, loss: 1.903, val acc: 0.480 (best 0.482), test acc: 0.479 (best 0.532)\n",
      "In epoch 10, loss: 1.830, val acc: 0.652 (best 0.652), test acc: 0.692 (best 0.692)\n",
      "In epoch 15, loss: 1.734, val acc: 0.592 (best 0.652), test acc: 0.607 (best 0.692)\n",
      "In epoch 20, loss: 1.616, val acc: 0.610 (best 0.652), test acc: 0.644 (best 0.692)\n",
      "In epoch 25, loss: 1.477, val acc: 0.680 (best 0.680), test acc: 0.701 (best 0.694)\n",
      "In epoch 30, loss: 1.323, val acc: 0.698 (best 0.698), test acc: 0.701 (best 0.701)\n",
      "In epoch 35, loss: 1.159, val acc: 0.708 (best 0.708), test acc: 0.711 (best 0.711)\n",
      "In epoch 40, loss: 0.995, val acc: 0.736 (best 0.736), test acc: 0.731 (best 0.731)\n",
      "In epoch 45, loss: 0.837, val acc: 0.748 (best 0.748), test acc: 0.747 (best 0.747)\n",
      "In epoch 50, loss: 0.693, val acc: 0.756 (best 0.756), test acc: 0.762 (best 0.762)\n",
      "In epoch 55, loss: 0.567, val acc: 0.766 (best 0.766), test acc: 0.769 (best 0.769)\n",
      "In epoch 60, loss: 0.461, val acc: 0.772 (best 0.772), test acc: 0.775 (best 0.775)\n",
      "In epoch 65, loss: 0.374, val acc: 0.774 (best 0.774), test acc: 0.781 (best 0.780)\n",
      "In epoch 70, loss: 0.304, val acc: 0.788 (best 0.788), test acc: 0.782 (best 0.782)\n",
      "In epoch 75, loss: 0.249, val acc: 0.782 (best 0.788), test acc: 0.782 (best 0.782)\n",
      "In epoch 80, loss: 0.205, val acc: 0.786 (best 0.788), test acc: 0.785 (best 0.782)\n",
      "In epoch 85, loss: 0.171, val acc: 0.786 (best 0.788), test acc: 0.788 (best 0.782)\n",
      "In epoch 90, loss: 0.144, val acc: 0.784 (best 0.788), test acc: 0.788 (best 0.782)\n",
      "In epoch 95, loss: 0.122, val acc: 0.782 (best 0.788), test acc: 0.787 (best 0.782)\n"
     ]
    }
   ],
   "source": [
    "g = g.to('cuda')\n",
    "model = GCN(g.ndata['feat'].shape[1], 16, dataset.num_classes).to('cuda')\n",
    "train(g, model)"
   ]
  }
 ],
 "metadata": {
  "interpreter": {
   "hash": "51cadf99bc0e959f2837a2fe92475306ce2fc0b9cdb23c76a0e4b383da806ec1"
  },
  "kernelspec": {
   "display_name": "Python 3.8.8 64-bit ('APOWvenv': venv)",
   "language": "python",
   "name": "python3"
  },
  "language_info": {
   "codemirror_mode": {
    "name": "ipython",
    "version": 3
   },
   "file_extension": ".py",
   "mimetype": "text/x-python",
   "name": "python",
   "nbconvert_exporter": "python",
   "pygments_lexer": "ipython3",
   "version": "3.8.10"
  },
  "orig_nbformat": 4
 },
 "nbformat": 4,
 "nbformat_minor": 2
}
